{
 "cells": [
  {
   "cell_type": "code",
   "execution_count": 1,
   "metadata": {},
   "outputs": [],
   "source": [
    "import numpy as np\n",
    "import matplotlib.pyplot as plt\n",
    "x=np.random.randn(100)\n",
    "y=3*x+np.random.randn(100)"
   ]
  },
  {
   "cell_type": "code",
   "execution_count": 2,
   "metadata": {},
   "outputs": [
    {
     "data": {
      "text/plain": [
       "array([-2.12629728e-01, -2.94378735e-04, -1.38555323e+00,  1.22937970e+00,\n",
       "       -1.00487451e+00,  9.96980359e-01, -4.80601558e-01,  1.16605760e+00,\n",
       "       -2.50906893e-01,  5.72112741e-01,  2.41874516e-01,  1.95049597e+00,\n",
       "       -1.93955435e-01,  6.08688043e-01,  7.36636220e-02,  1.22877094e+00,\n",
       "        1.51262037e-01, -4.71819668e-01,  3.15116124e-01, -7.69508866e-01,\n",
       "        1.40287028e+00, -2.10211639e-01, -1.71671379e-01, -4.97427346e-01,\n",
       "       -4.12251080e-01,  7.67838186e-02, -1.14600430e+00, -3.02468977e-02,\n",
       "       -1.88790393e+00, -1.67918765e-01,  1.65397530e+00,  1.18682072e+00,\n",
       "       -2.00530750e-01,  7.84759686e-01,  2.81653119e-01,  9.96330389e-01,\n",
       "        5.40463760e-02, -5.83429125e-01,  7.13643608e-01,  1.02549570e+00,\n",
       "        1.19122905e-01, -3.45683041e-02,  5.93503352e-01,  3.89887064e-01,\n",
       "       -1.02078075e+00, -3.69113339e-01,  1.93828154e-01,  6.53523675e-01,\n",
       "        1.50918958e+00,  3.80898831e-02, -1.01648616e+00, -1.67404474e+00,\n",
       "        1.67251087e+00, -9.87045867e-01, -1.95671185e+00,  6.43547917e-01,\n",
       "        1.07168976e-01, -6.19788511e-01,  3.30089185e+00,  5.40820554e-01,\n",
       "       -8.91303063e-01,  1.16088707e+00, -5.04292400e-01,  1.12235133e+00,\n",
       "       -5.77635689e-01,  2.83840934e-01,  8.57475268e-01,  4.57236781e-01,\n",
       "        7.20204024e-01,  1.23283272e+00, -8.31573710e-01, -1.54384334e-01,\n",
       "       -2.12446226e+00,  9.84774161e-01,  1.42254682e+00,  2.16593933e+00,\n",
       "       -1.62086974e+00,  1.75684515e+00, -3.67834165e-01, -8.45833131e-01,\n",
       "        5.53290341e-01,  2.92767427e+00,  2.32947171e-01, -8.26587663e-01,\n",
       "        1.03925028e+00, -6.42371851e-01, -4.76557980e-01, -1.93119127e-01,\n",
       "       -3.01146620e+00, -1.27944379e+00, -1.28870196e+00, -1.64165329e+00,\n",
       "       -9.78136756e-01,  2.15197672e+00,  1.24451479e+00, -1.31314013e+00,\n",
       "        4.93467162e-01, -5.75778819e-02, -1.91954685e+00, -1.34083741e+00])"
      ]
     },
     "execution_count": 2,
     "metadata": {},
     "output_type": "execute_result"
    }
   ],
   "source": [
    "x"
   ]
  },
  {
   "cell_type": "code",
   "execution_count": 3,
   "metadata": {},
   "outputs": [
    {
     "data": {
      "text/plain": [
       "array([-0.78030794,  0.23845965, -2.99305439,  2.97744599, -3.20293277,\n",
       "        4.33545217, -0.84234491,  3.35597359, -0.17158588,  3.12819428,\n",
       "        0.76168918,  4.62667882, -0.68099141,  2.09691612, -1.16857083,\n",
       "        4.73167181, -1.7188686 , -1.06186319,  0.23928687, -2.73798885,\n",
       "        3.95995824, -1.13808793, -1.42940156, -0.95861672, -1.9952985 ,\n",
       "        0.21667128, -2.65757459, -0.43492799, -5.70135958, -0.0717001 ,\n",
       "        5.14258479,  4.39985076, -0.38173137,  2.9885669 , -0.16532489,\n",
       "        2.54479553,  0.41840833, -0.78579285,  4.024701  ,  3.67970576,\n",
       "       -0.67036467, -0.67350035,  2.67498737,  2.04798697, -3.8289075 ,\n",
       "       -0.2530444 , -0.34222335,  2.38032629,  6.23339752,  0.27384763,\n",
       "       -3.37588967, -6.03579458,  4.59612521, -3.43475096, -6.74564909,\n",
       "        1.69887542, -1.24228808, -3.26883955, 10.23770468,  2.04571777,\n",
       "       -2.56956881,  2.7218553 , -3.09443604,  3.89705862, -2.09961452,\n",
       "        2.18517463,  2.04628544,  1.47102313, -0.36868403,  2.06832253,\n",
       "       -0.38101837, -0.60841079, -5.4390402 ,  3.15257319,  4.29053738,\n",
       "        7.54072021, -5.80372849,  3.20725267, -0.60808215, -3.28358852,\n",
       "        0.77472647,  9.35278702,  2.26458744, -3.6388091 ,  2.98309019,\n",
       "       -1.08232533, -2.41260846, -1.1241056 , -8.18239457, -3.46778085,\n",
       "       -4.14031647, -7.18340302, -4.72886743,  7.79547848,  3.09760612,\n",
       "       -4.117426  , -0.50422921,  0.49892121, -4.90645687, -2.95038821])"
      ]
     },
     "execution_count": 3,
     "metadata": {},
     "output_type": "execute_result"
    }
   ],
   "source": [
    "y"
   ]
  },
  {
   "cell_type": "code",
   "execution_count": 4,
   "metadata": {},
   "outputs": [
    {
     "data": {
      "text/plain": [
       "<matplotlib.collections.PathCollection at 0x24e8a6e99e8>"
      ]
     },
     "execution_count": 4,
     "metadata": {},
     "output_type": "execute_result"
    },
    {
     "data": {
      "image/png": "[encoded data removed]",
      "text/plain": [
       "<Figure size 432x288 with 1 Axes>"
      ]
     },
     "metadata": {
      "needs_background": "light"
     },
     "output_type": "display_data"
    }
   ],
   "source": [
    "plt.scatter(x,y)"
   ]
  },
  {
   "cell_type": "code",
   "execution_count": 6,
   "metadata": {},
   "outputs": [
    {
     "data": {
      "text/plain": [
       "<matplotlib.collections.PathCollection at 0x24e8a810518>"
      ]
     },
     "execution_count": 6,
     "metadata": {},
     "output_type": "execute_result"
    },
    {
     "data": {
      "image/png": "[encoded data removed]",
      "text/plain": [
       "<Figure size 432x288 with 1 Axes>"
      ]
     },
     "metadata": {
      "needs_background": "light"
     },
     "output_type": "display_data"
    }
   ],
   "source": [
    "x1=np.random.randn(100)\n",
    "y1=3*x1+10+np.random.randn(100)\n",
    "plt.scatter(x1,y1)"
   ]
  },
  {
   "cell_type": "code",
   "execution_count": 9,
   "metadata": {},
   "outputs": [],
   "source": [
    "from sklearn.linear_model import LinearRegression"
   ]
  },
  {
   "cell_type": "code",
   "execution_count": 10,
   "metadata": {},
   "outputs": [],
   "source": [
    "model=LinearRegression()"
   ]
  },
  {
   "cell_type": "code",
   "execution_count": 11,
   "metadata": {},
   "outputs": [
    {
     "data": {
      "text/plain": [
       "LinearRegression(copy_X=True, fit_intercept=True, n_jobs=None, normalize=False)"
      ]
     },
     "execution_count": 11,
     "metadata": {},
     "output_type": "execute_result"
    }
   ],
   "source": [
    "model"
   ]
  },
  {
   "cell_type": "code",
   "execution_count": 13,
   "metadata": {},
   "outputs": [
    {
     "data": {
      "text/plain": [
       "LinearRegression(copy_X=True, fit_intercept=True, n_jobs=None, normalize=False)"
      ]
     },
     "execution_count": 13,
     "metadata": {},
     "output_type": "execute_result"
    }
   ],
   "source": [
    "model.fit(x.reshape(-1,1),y)"
   ]
  },
  {
   "cell_type": "code",
   "execution_count": 14,
   "metadata": {},
   "outputs": [
    {
     "data": {
      "text/plain": [
       "array([3.05252329])"
      ]
     },
     "execution_count": 14,
     "metadata": {},
     "output_type": "execute_result"
    }
   ],
   "source": [
    "model.coef_"
   ]
  },
  {
   "cell_type": "code",
   "execution_count": 15,
   "metadata": {},
   "outputs": [
    {
     "data": {
      "text/plain": [
       "-0.08501427646224884"
      ]
     },
     "execution_count": 15,
     "metadata": {},
     "output_type": "execute_result"
    }
   ],
   "source": [
    "model.intercept_"
   ]
  },
  {
   "cell_type": "code",
   "execution_count": 16,
   "metadata": {},
   "outputs": [],
   "source": [
    "y_pred=model.predict(x.reshape(-1,1))"
   ]
  },
  {
   "cell_type": "code",
   "execution_count": 17,
   "metadata": {},
   "outputs": [
    {
     "data": {
      "text/plain": [
       "[<matplotlib.lines.Line2D at 0x24e8df0e4a8>]"
      ]
     },
     "execution_count": 17,
     "metadata": {},
     "output_type": "execute_result"
    },
    {
     "data": {
      "image/png": "[encoded data removed]",
      "text/plain": [
       "<Figure size 432x288 with 1 Axes>"
      ]
     },
     "metadata": {
      "needs_background": "light"
     },
     "output_type": "display_data"
    }
   ],
   "source": [
    "plt.scatter(x,y)\n",
    "plt.plot(x,y_pred)"
   ]
  },
  {
   "cell_type": "code",
   "execution_count": null,
   "metadata": {},
   "outputs": [],
   "source": []
  }
 ],
 "metadata": {
  "kernelspec": {
   "display_name": "Python 3",
   "language": "python",
   "name": "python3"
  },
  "language_info": {
   "codemirror_mode": {
    "name": "ipython",
    "version": 3
   },
   "file_extension": ".py",
   "mimetype": "text/x-python",
   "name": "python",
   "nbconvert_exporter": "python",
   "pygments_lexer": "ipython3",
   "version": "3.7.3"
  }
 },
 "nbformat": 4,
 "nbformat_minor": 2
}
